{
 "cells": [
  {
   "cell_type": "code",
   "execution_count": 3,
   "metadata": {},
   "outputs": [],
   "source": [
    "# !gdown --id 1N7rk-kfnDFIGMeX0ROVTjKh71gcgx-7R"
   ]
  },
  {
   "cell_type": "code",
   "execution_count": 4,
   "metadata": {},
   "outputs": [
    {
     "name": "stderr",
     "output_type": "stream",
     "text": [
      "[nltk_data] Downloading package punkt to\n",
      "[nltk_data]     C:\\Users\\duchu\\AppData\\Roaming\\nltk_data...\n",
      "[nltk_data]   Package punkt is already up-to-date!\n",
      "[nltk_data] Downloading package stopwords to\n",
      "[nltk_data]     C:\\Users\\duchu\\AppData\\Roaming\\nltk_data...\n",
      "[nltk_data]   Package stopwords is already up-to-date!\n"
     ]
    }
   ],
   "source": [
    "import string # Thao tác với chuỗi\n",
    "import nltk # (Natural Language Toolkit) Thư viện xử lý ngôn ngữ tự nhiên\n",
    "nltk.download('punkt')\n",
    "nltk.download('stopwords')\n",
    "\n",
    "import pandas as pd # Cung cấp các cấu trúc dữ liệu hiệu quả cho xử lý dữ liệu và phân tích dữ liệu\n",
    "import numpy as np # Thư viện hỗ trợ xử lý dữ liệu số\n",
    "import matplotlib.pyplot as plt\n",
    "import seaborn as sns \n",
    "\n",
    "from sklearn.model_selection import train_test_split\n",
    "from sklearn.naive_bayes import  GaussianNB\n",
    "from sklearn.metrics import accuracy_score\n",
    "from sklearn.preprocessing import LabelEncoder"
   ]
  },
  {
   "cell_type": "code",
   "execution_count": 5,
   "metadata": {},
   "outputs": [],
   "source": [
    "DATASET_PATH = './2cls_spam_text_cls.csv'\n",
    "df = pd.read_csv(DATASET_PATH)\n",
    "\n",
    "messages = df['Message'].values.tolist()\n",
    "labels = df['Category'].values.tolist()\n"
   ]
  },
  {
   "cell_type": "code",
   "execution_count": 6,
   "metadata": {},
   "outputs": [],
   "source": [
    "# Tiền xử lý dữ liệu\n",
    "\n",
    "def lower_case(text):\n",
    "    return text.lower()\n",
    "\n",
    "def punctuation_removal(text):\n",
    "    translator = str.maketrans('', '', string.punctuation)\n",
    "\n",
    "    return text.translate(translator)\n",
    "\n",
    "def tokenize(text):\n",
    "    return nltk.word_tokenize(text)\n",
    "\n",
    "def remove_stopwords(tokens):\n",
    "    stop_words = nltk.corpus.stopwords.words('english')\n",
    "\n",
    "    return [token for token in tokens if token not in stop_words]\n",
    "\n",
    "def steaming(tokens):\n",
    "    steamer = nltk.PorterStemmer()\n",
    "\n",
    "    return [steamer.stem(token) for token in tokens]\n",
    "\n",
    "def preprocess_text(text):\n",
    "    text = lower_case(text)\n",
    "    text = punctuation_removal(text)\n",
    "    tokens = tokenize(text)\n",
    "    tokens = remove_stopwords(tokens)\n",
    "    tokens = steaming(tokens)\n",
    "\n",
    "    return tokens\n",
    "\n",
    "messages = [preprocess_text(message) for message in messages]\n",
    "    "
   ]
  },
  {
   "cell_type": "code",
   "execution_count": 7,
   "metadata": {},
   "outputs": [],
   "source": [
    "def create_dictionary(messages):\n",
    "    dictionary = []\n",
    "\n",
    "    for tokens in messages:\n",
    "        for token in tokens:\n",
    "            if token not in dictionary:\n",
    "                dictionary.append(token)\n",
    "\n",
    "    return dictionary\n",
    "\n",
    "dictionary = create_dictionary(messages)"
   ]
  },
  {
   "cell_type": "code",
   "execution_count": 8,
   "metadata": {},
   "outputs": [],
   "source": [
    "def create_features(tokens, dictionary):\n",
    "    features = np.zeros(len(dictionary))\n",
    "\n",
    "    for token in tokens:\n",
    "        if token in dictionary:\n",
    "            features[dictionary.index(token)] += 1\n",
    "\n",
    "    return features\n",
    "\n",
    "X = np.array([create_features(tokens, dictionary) for tokens in messages])"
   ]
  },
  {
   "cell_type": "code",
   "execution_count": 9,
   "metadata": {},
   "outputs": [
    {
     "name": "stdout",
     "output_type": "stream",
     "text": [
      "Classes: ['ham' 'spam']\n",
      "Encoded labels: [0 0 1 ... 0 0 0]\n"
     ]
    }
   ],
   "source": [
    "le = LabelEncoder()\n",
    "y = le.fit_transform(labels)\n",
    "\n",
    "print(f'Classes: {le.classes_}')\n",
    "print(f'Encoded labels: {y}')\n"
   ]
  },
  {
   "cell_type": "code",
   "execution_count": 10,
   "metadata": {},
   "outputs": [],
   "source": [
    "VAL_SIZE = 0.2\n",
    "TEST_SIZE = 0.125\n",
    "SEED = 42\n",
    "\n",
    "X_train, X_val, y_train, y_val = train_test_split(X, y, test_size=VAL_SIZE, shuffle=True, random_state=SEED)\n",
    "X_train, X_test, y_train, y_test = train_test_split(X_train, y_train, test_size=TEST_SIZE, shuffle=True, random_state=SEED)\n"
   ]
  },
  {
   "cell_type": "code",
   "execution_count": 11,
   "metadata": {},
   "outputs": [
    {
     "name": "stdout",
     "output_type": "stream",
     "text": [
      "Start training...\n",
      "Training completed!\n"
     ]
    }
   ],
   "source": [
    "model = GaussianNB()\n",
    "print('Start training...')\n",
    "model.fit(X_train, y_train)\n",
    "print('Training completed!')"
   ]
  },
  {
   "cell_type": "code",
   "execution_count": 12,
   "metadata": {},
   "outputs": [
    {
     "name": "stdout",
     "output_type": "stream",
     "text": [
      "Validation accuracy: 0.8753363228699551\n",
      "Test accuracy: 0.8924731182795699\n"
     ]
    }
   ],
   "source": [
    "# Đánh giá mô hình\n",
    "y_val_pred = model.predict(X_val)\n",
    "y_test_pred = model.predict(X_test)\n",
    "\n",
    "val_accuracy = accuracy_score(y_val, y_val_pred)\n",
    "test_accuracy = accuracy_score(y_test, y_test_pred)\n",
    "\n",
    "print(f'Validation accuracy: {val_accuracy}')\n",
    "print(f'Test accuracy: {test_accuracy}')\n"
   ]
  },
  {
   "cell_type": "code",
   "execution_count": 13,
   "metadata": {},
   "outputs": [
    {
     "name": "stdout",
     "output_type": "stream",
     "text": [
      "Prediction: ham\n"
     ]
    }
   ],
   "source": [
    "# Thực hiện dự đoán\n",
    "\n",
    "def predict(text, model, dictionary):\n",
    "    precessed_text = preprocess_text(text)\n",
    "    features = create_features(text, dictionary)\n",
    "    features = np.array(features).reshape(1, -1)\n",
    "    prediction = model.predict(features)\n",
    "    prediction_cls = le.inverse_transform(prediction)[0]\n",
    "\n",
    "    return prediction_cls\n",
    "\n",
    "text = '\"Free entry in 2 a wkly comp to win FA Cup final'\n",
    "prediction_cls = predict(text, model, dictionary)\n",
    "print(f'Prediction: {prediction_cls}')"
   ]
  }
 ],
 "metadata": {
  "kernelspec": {
   "display_name": "aio",
   "language": "python",
   "name": "python3"
  },
  "language_info": {
   "codemirror_mode": {
    "name": "ipython",
    "version": 3
   },
   "file_extension": ".py",
   "mimetype": "text/x-python",
   "name": "python",
   "nbconvert_exporter": "python",
   "pygments_lexer": "ipython3",
   "version": "3.12.3"
  }
 },
 "nbformat": 4,
 "nbformat_minor": 2
}
